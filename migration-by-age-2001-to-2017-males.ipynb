{
 "cells": [
  {
   "cell_type": "markdown",
   "metadata": {},
   "source": [
    "# Migration between Scotland and overseas by age\n",
    "\n",
    "Tabs: `SYOA Persons (2001-)` and `SYOA Males (2001-)`"
   ]
  },
  {
   "cell_type": "code",
   "execution_count": 1,
   "metadata": {},
   "outputs": [
    {
     "data": {
      "text/html": [
       "<h3>Distribution</h3>\n",
       "<dl><dt>dct:title</dt><dd>&quot;Migration between Scotland and overseas by age&quot;@en</dd>\n",
       "<dt>dcat:downloadURL</dt><dd><a href=https://www.nrscotland.gov.uk/files//statistics/migration/2018-july/tab-z2-overseas-mig-flows-by-age-scotland-2001-02-latest-july-18.xlsx>&lt;https://www.nrscotland.gov.uk/files//statistics/migration/2018-july/tab-z2-overseas-mig-flows-by-age-scotland-2001-02-latest-july-18.xlsx&gt;</a></dd>\n",
       "<dt>dcat:mediaType</dt><dd>&quot;application/vnd.ms-excel&quot;</dd>\n",
       "</dl>"
      ],
      "text/plain": [
       "<gssutils.metadata.Distribution at 0x224f944def0>"
      ]
     },
     "metadata": {},
     "output_type": "display_data"
    }
   ],
   "source": [
    "from gssutils import *\n",
    "\n",
    "if is_interactive():\n",
    "    scraper = Scraper('https://www.nrscotland.gov.uk/statistics-and-data/statistics/' \\\n",
    "                      'statistics-by-theme/migration/migration-statistics/migration-between-scotland-and-overseas')\n",
    "#     scraper.run()\n",
    "    distribution = scraper.distribution(\n",
    "        mediaType='application/vnd.ms-excel',\n",
    "        title='Migration between Scotland and overseas by age')\n",
    "    display(distribution)\n",
    "    tabs = distribution.as_databaker()"
   ]
  },
  {
   "cell_type": "code",
   "execution_count": 2,
   "metadata": {
    "collapsed": true
   },
   "outputs": [],
   "source": [
    "Final_table = pd.DataFrame()"
   ]
  },
  {
   "cell_type": "markdown",
   "metadata": {},
   "source": [
    "HDimConst('Area of Destination or Origin','migration of persons from overseas') replaced by 'Scotland'"
   ]
  },
  {
   "cell_type": "code",
   "execution_count": 3,
   "metadata": {},
   "outputs": [
    {
     "name": "stdout",
     "output_type": "stream",
     "text": [
      "\n"
     ]
    }
   ],
   "source": [
    "tab = [t for t in tabs if t.name == 'SYOA Males (2001-)'][0]\n",
    "observations = tab.excel_ref(\"B6\").expand(RIGHT).expand(DOWN).is_not_blank().is_not_whitespace()\n",
    "age = tab.excel_ref('C5').expand(RIGHT).is_not_blank()\n",
    "flow = tab.excel_ref('A').expand(DOWN).by_index([3,23,43])\n",
    "year = tab.excel_ref('A6').expand(DOWN) - tab.excel_ref('A63').expand(DOWN)\n",
    "Dimensions = [\n",
    "            HDim(year,'Mid Year',DIRECTLY, LEFT),\n",
    "            HDim(flow,'Flow',CLOSEST, ABOVE),\n",
    "            HDim(age,'Age',DIRECTLY, ABOVE),\n",
    "            HDimConst('Measure Type', 'Count'),\n",
    "            HDimConst('Unit','People'),\n",
    "            HDimConst('Sex','M'),\n",
    "            HDimConst('Area of Destination or Origin','Scotland')\n",
    "    ]\n",
    "c1 = ConversionSegment(observations, Dimensions, processTIMEUNIT=True)\n",
    "new_table = c1.topandas()\n",
    "new_table['Value'] = pd.to_numeric(new_table['OBS'], errors='coerce').fillna(0)\n",
    "new_table['Value'] = new_table['Value'].astype(int)\n",
    "new_table['Flow'] = new_table['Flow'].map(\n",
    "    lambda x: {\n",
    "        'In migration of persons from overseas 2001-02 to latest' : 'Inflow', \n",
    "        'Out migration of persons to overseas 2001-02 to latest' : 'Outflow',\n",
    "        'Net migration of persons from overseas 2001-02 to latest': 'Balance' \n",
    "        }.get(x, x))\n",
    "new_table['Age'] = new_table['Age'].astype(str)\n",
    "new_table['Age'] = new_table['Age'].map(lambda cell:cell.replace('None', 'all'))\n",
    "new_table['Age'] = 'year/' + new_table['Age']\n",
    "new_table['Age'] = new_table['Age'].map(lambda cell:cell.replace('.0', ''))\n",
    "Final_table = pd.concat([Final_table, new_table])"
   ]
  },
  {
   "cell_type": "code",
   "execution_count": 4,
   "metadata": {
    "collapsed": true
   },
   "outputs": [],
   "source": [
    "Final_table = Final_table[['Area of Destination or Origin','Mid Year','Sex','Age','Flow','Measure Type','Value','Unit']]"
   ]
  },
  {
   "cell_type": "code",
   "execution_count": 5,
   "metadata": {},
   "outputs": [
    {
     "data": {
      "text/plain": [
       "Area of Destination or Origin    4618\n",
       "Mid Year                         4618\n",
       "Sex                              4618\n",
       "Age                              4618\n",
       "Flow                             4618\n",
       "Measure Type                     4618\n",
       "Value                            4618\n",
       "Unit                             4618\n",
       "dtype: int64"
      ]
     },
     "execution_count": 5,
     "metadata": {},
     "output_type": "execute_result"
    }
   ],
   "source": [
    "Final_table.count()"
   ]
  },
  {
   "cell_type": "code",
   "execution_count": null,
   "metadata": {
    "collapsed": true
   },
   "outputs": [],
   "source": []
  }
 ],
 "metadata": {
  "kernelspec": {
   "display_name": "Python 3",
   "language": "python",
   "name": "python3"
  },
  "language_info": {
   "codemirror_mode": {
    "name": "ipython",
    "version": 3
   },
   "file_extension": ".py",
   "mimetype": "text/x-python",
   "name": "python",
   "nbconvert_exporter": "python",
   "pygments_lexer": "ipython3",
   "version": "3.6.3"
  }
 },
 "nbformat": 4,
 "nbformat_minor": 2
}
