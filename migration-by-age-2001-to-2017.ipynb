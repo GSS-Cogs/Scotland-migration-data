{
 "cells": [
  {
   "cell_type": "markdown",
   "metadata": {},
   "source": [
    "# Migration between Scotland and overseas by age\n",
    "\n",
    "Tabs: `AG 2001-02`, etc."
   ]
  },
  {
   "cell_type": "code",
   "execution_count": 1,
   "metadata": {},
   "outputs": [
    {
     "data": {
      "text/html": [
       "<h3>Distribution</h3>\n",
       "<dl><dt>dct:title</dt><dd>&quot;Migration between Scotland and overseas by age&quot;@en</dd>\n",
       "<dt>dcat:downloadURL</dt><dd><a href=https://www.nrscotland.gov.uk/files//statistics/migration/2018-july/tab-z2-overseas-mig-flows-by-age-scotland-2001-02-latest-july-18.xlsx>&lt;https://www.nrscotland.gov.uk/files//statistics/migration/2018-july/tab-z2-overseas-mig-flows-by-age-scotland-2001-02-latest-july-18.xlsx&gt;</a></dd>\n",
       "<dt>dcat:mediaType</dt><dd>&quot;application/vnd.ms-excel&quot;</dd>\n",
       "</dl>"
      ],
      "text/plain": [
       "<gssutils.metadata.Distribution at 0x20629fb2860>"
      ]
     },
     "metadata": {},
     "output_type": "display_data"
    },
    {
     "data": {
      "text/plain": [
       "['AG 2001-02',\n",
       " 'AG 2002-03',\n",
       " 'AG 2003-04',\n",
       " 'AG 2004-05',\n",
       " 'AG 2005-06',\n",
       " 'AG 2006-07',\n",
       " 'AG 2007-08',\n",
       " 'AG 2008-09',\n",
       " 'AG 2009-10',\n",
       " 'AG 2010-11',\n",
       " 'AG 2011-12',\n",
       " 'AG 2012-13',\n",
       " 'AG 2013-14',\n",
       " 'AG 2014-15',\n",
       " 'AG 2015-16',\n",
       " 'AG 2016-17']"
      ]
     },
     "metadata": {},
     "output_type": "display_data"
    }
   ],
   "source": [
    "from gssutils import *\n",
    "\n",
    "if is_interactive():\n",
    "    scraper = Scraper('https://www.nrscotland.gov.uk/statistics-and-data/statistics/' \\\n",
    "                      'statistics-by-theme/migration/migration-statistics/migration-between-scotland-and-overseas')\n",
    "#     scraper.run()\n",
    "    distribution = scraper.distribution(\n",
    "        mediaType='application/vnd.ms-excel',\n",
    "        title='Migration between Scotland and overseas by age')\n",
    "    display(distribution)\n",
    "    tabs = [tab for tab in distribution.as_databaker() if tab.name.startswith('AG ')]\n",
    "    display([tab.name for tab in tabs])\n",
    "    "
   ]
  },
  {
   "cell_type": "code",
   "execution_count": 2,
   "metadata": {
    "collapsed": true
   },
   "outputs": [],
   "source": [
    "Final_table = pd.DataFrame()"
   ]
  },
  {
   "cell_type": "code",
   "execution_count": 3,
   "metadata": {},
   "outputs": [
    {
     "name": "stdout",
     "output_type": "stream",
     "text": [
      "\n",
      "\n",
      "\n",
      "\n",
      "\n",
      "\n",
      "\n",
      "\n",
      "\n",
      "\n",
      "\n",
      "\n",
      "\n",
      "\n",
      "\n",
      "\n"
     ]
    }
   ],
   "source": [
    "for tab in [t for t in tabs if t.name.startswith('AG ')]:\n",
    "    observations = tab.excel_ref(\"B7\").expand(RIGHT).expand(DOWN).is_not_blank().is_not_whitespace()\n",
    "    area = tab.excel_ref('A').expand(DOWN).by_index([4,11,18])\n",
    "    age = tab.excel_ref('B5').expand(RIGHT).is_not_blank()\n",
    "    flow = tab.excel_ref('A7').expand(DOWN)\n",
    "    per = tab.excel_ref('B6').expand(RIGHT).is_not_blank()\n",
    "    Dimensions = [\n",
    "            HDimConst('Mid Year',str(tab.name[3:7])+'-06-30T00:00:00/P1Y'),\n",
    "            HDim(flow,'Flow',DIRECTLY, LEFT),\n",
    "            HDim(age,'Age',DIRECTLY, ABOVE),\n",
    "            HDim(per,'per',DIRECTLY, ABOVE),\n",
    "            HDimConst('Measure Type', 'Count'),\n",
    "            HDimConst('Unit','People'),\n",
    "            HDimConst('Sex','T'),\n",
    "            HDim(area,'Foreign geography',CLOSEST,ABOVE)\n",
    "            ]\n",
    "    c1 = ConversionSegment(observations, Dimensions, processTIMEUNIT=True)\n",
    "    new_table = c1.topandas()\n",
    "    new_table = new_table[new_table['per'] != '%']\n",
    "    new_table['Value'] = pd.to_numeric(new_table['OBS'], errors='coerce').fillna(0)\n",
    "    new_table['Value'] = new_table['Value'].astype(int)\n",
    "    new_table = new_table[new_table['Flow'] != '']\n",
    "    new_table['Flow'] = new_table['Flow'].map(\n",
    "    lambda x: {\n",
    "        'IN' : 'Inflow', \n",
    "        'OUT' : 'Outflow',\n",
    "        'NET': 'Balance' \n",
    "        }.get(x, x))\n",
    "    new_table['Age'] = new_table['Age'].map(lambda cell:cell.replace('+', '-plus'))\n",
    "    new_table['Age'] = new_table['Age'].map(lambda cell:cell.replace('All ages', 'all'))\n",
    "    new_table['Age'] = 'nrs/' + new_table['Age']\n",
    "    new_table = new_table[new_table['Value'] != 0 ]\n",
    "    new_table['Mid Year'] = new_table['Mid Year'].map(lambda x: str(x)[0:4]) + '-06-30T00:00:00/P1Y'\n",
    "    new_table['Domestic geography'] = 'Scotland'\n",
    "    new_table = new_table[['Domestic geography','Foreign geography','Mid Year','Sex','Age','Flow','Measure Type','Value','Unit']]\n",
    "    Final_table = pd.concat([Final_table, new_table])"
   ]
  },
  {
   "cell_type": "code",
   "execution_count": 6,
   "metadata": {
    "collapsed": true
   },
   "outputs": [],
   "source": [
    "Final_table['Foreign geography'] = Final_table['Foreign geography'].map(\n",
    "    lambda x: {\n",
    "        'Movements between Scotland and the rest of the UK1' : 'nrs/rest-of-the-uk', \n",
    "        'Movements between Scotland and overseas (including asylum seekers; excluding unmeasured migration adjustment)2, 3' : 'nrs/overseas',\n",
    "        'Total net migration (including asylum seekers)3' : 'nrs/total',\n",
    "        'Movements between Scotland and overseas (including asylum seekers; excluding unmeasured migration adjustment)2,3': 'nrs/overseas',\n",
    "        'Movements between Scotland and Overseas (including asylum seekers)2':'nrs/overseas',\n",
    "        'Total net migration (including asylum seekers)' : 'nrs/total'\n",
    "        }.get(x, x))"
   ]
  },
  {
   "cell_type": "code",
   "execution_count": null,
   "metadata": {
    "collapsed": true
   },
   "outputs": [],
   "source": []
  }
 ],
 "metadata": {
  "kernelspec": {
   "display_name": "Python 3",
   "language": "python",
   "name": "python3"
  },
  "language_info": {
   "codemirror_mode": {
    "name": "ipython",
    "version": 3
   },
   "file_extension": ".py",
   "mimetype": "text/x-python",
   "name": "python",
   "nbconvert_exporter": "python",
   "pygments_lexer": "ipython3",
   "version": "3.6.3"
  }
 },
 "nbformat": 4,
 "nbformat_minor": 2
}
