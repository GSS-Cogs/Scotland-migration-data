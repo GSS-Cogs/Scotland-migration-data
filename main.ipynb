{
 "cells": [
  {
   "cell_type": "markdown",
   "metadata": {},
   "source": [
    "# Migration between Scotland and Overseas"
   ]
  },
  {
   "cell_type": "code",
   "execution_count": 125,
   "metadata": {},
   "outputs": [
    {
     "data": {
      "text/markdown": [
       "## Migration between Scotland and Overseas\n",
       "\n",
       "### Description\n",
       "\n",
       "Migration between Scotland and overseas refers to people moving between\n",
       "Scotland and any country outside the UK.\n",
       "\n",
       "Due to the sources of data used by National Records of Scotland (NRS) to\n",
       "estimate migration, the country or group of countries that overseas migrants\n",
       "come from cannot be identified.\n",
       "\n",
       "\n",
       "\n",
       "### Distributions\n",
       "\n",
       "1. Migration between administrative areas and overseas by sex ([MS Excel Spreadsheet](https://www.nrscotland.gov.uk/files//statistics/migration/flows/apr-19/mig-overseas-admin-sex-tab1.xlsx))\n",
       "1. Migration between administrative areas and overseas by sex ([text/csv](https://www.nrscotland.gov.uk/files//statistics/migration/flows/apr-19/mig-overseas-admin-sex-tab1.zip))\n",
       "1. Migration between Scotland and overseas by age ([MS Excel Spreadsheet](https://www.nrscotland.gov.uk/files//statistics/migration/flows/apr-19/mig-overseas-syoa-tab2.xlsx))\n",
       "1. Migration between Scotland and overseas by age ([text/csv](https://www.nrscotland.gov.uk/files//statistics/migration/flows/apr-19/mig-overseas-syoa-tab2.zip))\n"
      ],
      "text/plain": [
       "<gssutils.scrape.Scraper at 0x11ad13208>"
      ]
     },
     "execution_count": 125,
     "metadata": {},
     "output_type": "execute_result"
    }
   ],
   "source": [
    "from gssutils import *\n",
    "scraper = Scraper('https://www.nrscotland.gov.uk/statistics-and-data/statistics/statistics-by-theme/' \\\n",
    "                  'migration/migration-statistics/migration-flows/migration-between-scotland-and-overseas')\n",
    "scraper"
   ]
  },
  {
   "cell_type": "code",
   "execution_count": 126,
   "metadata": {},
   "outputs": [
    {
     "data": {
      "text/html": [
       "<h3>PMDDataset</h3>\n",
       "<dl><dt>rdfs:label</dt><dd>&quot;Migration between Scotland and Overseas&quot;@en</dd>\n",
       "<dt>dct:title</dt><dd>&quot;Migration between Scotland and Overseas&quot;@en</dd>\n",
       "<dt>dct:description</dt><dd>&quot;&quot;&quot;Migration between Scotland and overseas refers to people moving between\n",
       "Scotland and any country outside the UK.\n",
       "\n",
       "Due to the sources of data used by National Records of Scotland (NRS) to\n",
       "estimate migration, the country or group of countries that overseas migrants\n",
       "come from cannot be identified.\n",
       "\n",
       "&quot;&quot;&quot;^^&lt;https://www.w3.org/ns/iana/media-types/text/markdown#Resource&gt;</dd>\n",
       "<dt>dct:publisher</dt><dd><a href=https://www.gov.uk/government/organisations/national-records-of-scotland>&lt;https://www.gov.uk/government/organisations/national-records-of-scotland&gt;</a></dd>\n",
       "<dt>dct:modified</dt><dd>&quot;2019-10-25T15:43:16.427378&quot;^^&lt;http://www.w3.org/2001/XMLSchema#dateTime&gt;</dd>\n",
       "<dt>dcat:landingPage</dt><dd><a href=https://www.nrscotland.gov.uk/statistics-and-data/statistics/statistics-by-theme/migration/migration-statistics/migration-flows/migration-between-scotland-and-overseas>&lt;https://www.nrscotland.gov.uk/statistics-and-data/statistics/statistics-by-theme/migration/migration-statistics/migration-flows/migration-between-scotland-and-overseas&gt;</a></dd>\n",
       "<dt>dcat:theme</dt><dd><a href=http://gss-data.org.uk/def/concept/statistics-authority-themes/population>&lt;http://gss-data.org.uk/def/concept/statistics-authority-themes/population&gt;</a></dd>\n",
       "<dt>void:sparqlEndpoint</dt><dd><a href=/sparql>&lt;/sparql&gt;</a></dd>\n",
       "<dt>pmd:graph</dt><dd><a href=graph/www/nrscotland/gov/uk/statistics-and-data/statistics/statistics-by-theme/migration/migration-statistics/migration-flows/migration-between-scotland-and-overseas>&lt;graph/www/nrscotland/gov/uk/statistics-and-data/statistics/statistics-by-theme/migration/migration-statistics/migration-flows/migration-between-scotland-and-overseas&gt;</a></dd>\n",
       "<dt>dct:creator</dt><dd><a href=https://www.gov.uk/government/organisations/national-records-of-scotland>&lt;https://www.gov.uk/government/organisations/national-records-of-scotland&gt;</a></dd>\n",
       "</dl>"
      ],
      "text/plain": [
       "<gssutils.metadata.PMDDataset at 0x11ad13908>"
      ]
     },
     "execution_count": 126,
     "metadata": {},
     "output_type": "execute_result"
    }
   ],
   "source": [
    "scraper.dataset.theme = metadata.THEME['population']\n",
    "scraper.dataset"
   ]
  },
  {
   "cell_type": "code",
   "execution_count": 127,
   "metadata": {},
   "outputs": [],
   "source": [
    "databaker_sheets = {sheet.name: sheet for sheet in scraper.distribution(\n",
    "    title='Migration between administrative areas and overseas by sex',\n",
    "    mediaType=Excel).as_databaker()}"
   ]
  },
  {
   "cell_type": "code",
   "execution_count": 128,
   "metadata": {},
   "outputs": [],
   "source": [
    "next_table = pd.DataFrame()"
   ]
  },
  {
   "cell_type": "code",
   "execution_count": 129,
   "metadata": {},
   "outputs": [],
   "source": [
    "%%capture\n",
    "\n",
    "tab = databaker_sheets['Net-Council Area-Sex']\n",
    "%run \"migration-admin-areas-by-sex-net.ipynb\"\n",
    "next_table = pd.concat([next_table, tidy])\n",
    "\n",
    "tab = databaker_sheets['In-Council Area-Sex']\n",
    "%run \"migration-admin-areas-by-sex-in.ipynb\"\n",
    "next_table = pd.concat([next_table, tidy])\n",
    "\n",
    "tab = databaker_sheets['Out-Council Area-Sex']\n",
    "%run \"migration-admin-areas-by-sex-out.ipynb\"\n",
    "next_table = pd.concat([next_table, tidy])\n",
    "\n"
   ]
  },
  {
   "cell_type": "code",
   "execution_count": 130,
   "metadata": {},
   "outputs": [],
   "source": [
    " distribution = scraper.distribution(\n",
    "    title='Migration between Scotland and overseas by age',\n",
    "    mediaType='application/vnd.ms-excel')\n",
    "tabs = distribution.as_databaker()"
   ]
  },
  {
   "cell_type": "code",
   "execution_count": 131,
   "metadata": {},
   "outputs": [
    {
     "name": "stdout",
     "output_type": "stream",
     "text": [
      "\n",
      "\n",
      "\n",
      "\n",
      "\n",
      "\n",
      "\n",
      "\n",
      "\n",
      "\n",
      "\n",
      "\n",
      "\n",
      "\n",
      "\n",
      "\n",
      "\n"
     ]
    }
   ],
   "source": [
    "%run \"migration-by-age-2001-to-2017.ipynb\"\n",
    "next_table = pd.concat([next_table, Final_table])"
   ]
  },
  {
   "cell_type": "code",
   "execution_count": 132,
   "metadata": {},
   "outputs": [],
   "source": [
    "tab = distribution.as_pandas(sheet_name = 'SYOA Females (2001-)')\n",
    "%run \"migration-by-age-2001-to-2017-females.ipynb\"\n",
    "next_table = pd.concat([next_table, Final_table])"
   ]
  },
  {
   "cell_type": "code",
   "execution_count": 133,
   "metadata": {},
   "outputs": [
    {
     "name": "stdout",
     "output_type": "stream",
     "text": [
      "\n"
     ]
    }
   ],
   "source": [
    "%run \"migration-by-age-2001-to-2017-persons.ipynb\"\n",
    "next_table = pd.concat([next_table, Final_table])"
   ]
  },
  {
   "cell_type": "code",
   "execution_count": 134,
   "metadata": {},
   "outputs": [
    {
     "name": "stdout",
     "output_type": "stream",
     "text": [
      "\n"
     ]
    }
   ],
   "source": [
    "%run \"migration-by-age-2001-to-2017-males.ipynb\"\n",
    "next_table = pd.concat([next_table, Final_table])"
   ]
  },
  {
   "cell_type": "code",
   "execution_count": 135,
   "metadata": {},
   "outputs": [],
   "source": [
    "next_table.columns = ['Domestic geography1' if x=='Domestic geography' else x for x in next_table.columns]"
   ]
  },
  {
   "cell_type": "code",
   "execution_count": 136,
   "metadata": {},
   "outputs": [],
   "source": [
    "import pandas as pd\n",
    "c=pd.read_csv(\"scottish-geo-lookup.csv\")"
   ]
  },
  {
   "cell_type": "code",
   "execution_count": 137,
   "metadata": {},
   "outputs": [
    {
     "data": {
      "text/html": [
       "<div>\n",
       "<style scoped>\n",
       "    .dataframe tbody tr th:only-of-type {\n",
       "        vertical-align: middle;\n",
       "    }\n",
       "\n",
       "    .dataframe tbody tr th {\n",
       "        vertical-align: top;\n",
       "    }\n",
       "\n",
       "    .dataframe thead th {\n",
       "        text-align: right;\n",
       "    }\n",
       "</style>\n",
       "<table border=\"1\" class=\"dataframe\">\n",
       "  <thead>\n",
       "    <tr style=\"text-align: right;\">\n",
       "      <th></th>\n",
       "      <th>label</th>\n",
       "      <th>notation</th>\n",
       "    </tr>\n",
       "  </thead>\n",
       "  <tbody>\n",
       "    <tr>\n",
       "      <th>0</th>\n",
       "      <td>Scotland</td>\n",
       "      <td>S92000003</td>\n",
       "    </tr>\n",
       "    <tr>\n",
       "      <th>1</th>\n",
       "      <td>Clackmannanshire</td>\n",
       "      <td>S12000005</td>\n",
       "    </tr>\n",
       "    <tr>\n",
       "      <th>2</th>\n",
       "      <td>Glasgow City</td>\n",
       "      <td>S12000046</td>\n",
       "    </tr>\n",
       "    <tr>\n",
       "      <th>3</th>\n",
       "      <td>Dumfries and Galloway</td>\n",
       "      <td>S12000006</td>\n",
       "    </tr>\n",
       "    <tr>\n",
       "      <th>4</th>\n",
       "      <td>East Ayrshire</td>\n",
       "      <td>S12000008</td>\n",
       "    </tr>\n",
       "    <tr>\n",
       "      <th>5</th>\n",
       "      <td>East Lothian</td>\n",
       "      <td>S12000010</td>\n",
       "    </tr>\n",
       "    <tr>\n",
       "      <th>6</th>\n",
       "      <td>East Renfrewshire</td>\n",
       "      <td>S12000011</td>\n",
       "    </tr>\n",
       "    <tr>\n",
       "      <th>7</th>\n",
       "      <td>Falkirk</td>\n",
       "      <td>S12000014</td>\n",
       "    </tr>\n",
       "    <tr>\n",
       "      <th>8</th>\n",
       "      <td>Fife</td>\n",
       "      <td>S12000015</td>\n",
       "    </tr>\n",
       "    <tr>\n",
       "      <th>9</th>\n",
       "      <td>Highland</td>\n",
       "      <td>S12000017</td>\n",
       "    </tr>\n",
       "    <tr>\n",
       "      <th>10</th>\n",
       "      <td>Inverclyde</td>\n",
       "      <td>S12000018</td>\n",
       "    </tr>\n",
       "    <tr>\n",
       "      <th>11</th>\n",
       "      <td>Midlothian</td>\n",
       "      <td>S12000019</td>\n",
       "    </tr>\n",
       "    <tr>\n",
       "      <th>12</th>\n",
       "      <td>Moray</td>\n",
       "      <td>S12000020</td>\n",
       "    </tr>\n",
       "    <tr>\n",
       "      <th>13</th>\n",
       "      <td>North Ayrshire</td>\n",
       "      <td>S12000021</td>\n",
       "    </tr>\n",
       "    <tr>\n",
       "      <th>14</th>\n",
       "      <td>Orkney Islands</td>\n",
       "      <td>S12000023</td>\n",
       "    </tr>\n",
       "    <tr>\n",
       "      <th>15</th>\n",
       "      <td>Perth and Kinross</td>\n",
       "      <td>S12000024</td>\n",
       "    </tr>\n",
       "    <tr>\n",
       "      <th>16</th>\n",
       "      <td>Scottish Borders</td>\n",
       "      <td>S12000026</td>\n",
       "    </tr>\n",
       "    <tr>\n",
       "      <th>17</th>\n",
       "      <td>Shetland Islands</td>\n",
       "      <td>S12000027</td>\n",
       "    </tr>\n",
       "    <tr>\n",
       "      <th>18</th>\n",
       "      <td>South Ayrshire</td>\n",
       "      <td>S12000028</td>\n",
       "    </tr>\n",
       "    <tr>\n",
       "      <th>19</th>\n",
       "      <td>South Lanarkshire</td>\n",
       "      <td>S12000029</td>\n",
       "    </tr>\n",
       "    <tr>\n",
       "      <th>20</th>\n",
       "      <td>Stirling</td>\n",
       "      <td>S12000030</td>\n",
       "    </tr>\n",
       "    <tr>\n",
       "      <th>21</th>\n",
       "      <td>Aberdeen City</td>\n",
       "      <td>S12000033</td>\n",
       "    </tr>\n",
       "    <tr>\n",
       "      <th>22</th>\n",
       "      <td>Aberdeenshire</td>\n",
       "      <td>S12000034</td>\n",
       "    </tr>\n",
       "    <tr>\n",
       "      <th>23</th>\n",
       "      <td>Argyll and Bute</td>\n",
       "      <td>S12000035</td>\n",
       "    </tr>\n",
       "    <tr>\n",
       "      <th>24</th>\n",
       "      <td>City of Edinburgh</td>\n",
       "      <td>S12000036</td>\n",
       "    </tr>\n",
       "    <tr>\n",
       "      <th>25</th>\n",
       "      <td>Renfrewshire</td>\n",
       "      <td>S12000038</td>\n",
       "    </tr>\n",
       "    <tr>\n",
       "      <th>26</th>\n",
       "      <td>West Dunbartonshire</td>\n",
       "      <td>S12000039</td>\n",
       "    </tr>\n",
       "    <tr>\n",
       "      <th>27</th>\n",
       "      <td>West Lothian</td>\n",
       "      <td>S12000040</td>\n",
       "    </tr>\n",
       "    <tr>\n",
       "      <th>28</th>\n",
       "      <td>Angus</td>\n",
       "      <td>S12000041</td>\n",
       "    </tr>\n",
       "    <tr>\n",
       "      <th>29</th>\n",
       "      <td>Dundee City</td>\n",
       "      <td>S12000042</td>\n",
       "    </tr>\n",
       "    <tr>\n",
       "      <th>30</th>\n",
       "      <td>North Lanarkshire</td>\n",
       "      <td>S12000044</td>\n",
       "    </tr>\n",
       "    <tr>\n",
       "      <th>31</th>\n",
       "      <td>East Dunbartonshire</td>\n",
       "      <td>S12000045</td>\n",
       "    </tr>\n",
       "    <tr>\n",
       "      <th>32</th>\n",
       "      <td>Na h-Eileanan Siar</td>\n",
       "      <td>S12000013</td>\n",
       "    </tr>\n",
       "    <tr>\n",
       "      <th>33</th>\n",
       "      <td>Ayrshire and Arran</td>\n",
       "      <td>S08000015</td>\n",
       "    </tr>\n",
       "    <tr>\n",
       "      <th>34</th>\n",
       "      <td>Western Isles</td>\n",
       "      <td>S08000028</td>\n",
       "    </tr>\n",
       "    <tr>\n",
       "      <th>35</th>\n",
       "      <td>Borders</td>\n",
       "      <td>S08000016</td>\n",
       "    </tr>\n",
       "    <tr>\n",
       "      <th>36</th>\n",
       "      <td>Dumfries and Galloway</td>\n",
       "      <td>S08000017</td>\n",
       "    </tr>\n",
       "    <tr>\n",
       "      <th>37</th>\n",
       "      <td>Fife</td>\n",
       "      <td>S08000018</td>\n",
       "    </tr>\n",
       "    <tr>\n",
       "      <th>38</th>\n",
       "      <td>Forth Valley</td>\n",
       "      <td>S08000019</td>\n",
       "    </tr>\n",
       "    <tr>\n",
       "      <th>39</th>\n",
       "      <td>Grampian</td>\n",
       "      <td>S08000020</td>\n",
       "    </tr>\n",
       "    <tr>\n",
       "      <th>40</th>\n",
       "      <td>Greater Glasgow and Clyde</td>\n",
       "      <td>S08000021</td>\n",
       "    </tr>\n",
       "    <tr>\n",
       "      <th>41</th>\n",
       "      <td>Highland</td>\n",
       "      <td>S08000022</td>\n",
       "    </tr>\n",
       "    <tr>\n",
       "      <th>42</th>\n",
       "      <td>Lanarkshire</td>\n",
       "      <td>S08000023</td>\n",
       "    </tr>\n",
       "    <tr>\n",
       "      <th>43</th>\n",
       "      <td>Lothian</td>\n",
       "      <td>S08000024</td>\n",
       "    </tr>\n",
       "    <tr>\n",
       "      <th>44</th>\n",
       "      <td>Orkney</td>\n",
       "      <td>S08000025</td>\n",
       "    </tr>\n",
       "    <tr>\n",
       "      <th>45</th>\n",
       "      <td>Shetland</td>\n",
       "      <td>S08000026</td>\n",
       "    </tr>\n",
       "    <tr>\n",
       "      <th>46</th>\n",
       "      <td>Tayside</td>\n",
       "      <td>S08000027</td>\n",
       "    </tr>\n",
       "    <tr>\n",
       "      <th>47</th>\n",
       "      <td>Argyll &amp; Bute</td>\n",
       "      <td>S12000035</td>\n",
       "    </tr>\n",
       "    <tr>\n",
       "      <th>48</th>\n",
       "      <td>United Kingdom</td>\n",
       "      <td>K02000001</td>\n",
       "    </tr>\n",
       "    <tr>\n",
       "      <th>49</th>\n",
       "      <td>World</td>\n",
       "      <td>world</td>\n",
       "    </tr>\n",
       "    <tr>\n",
       "      <th>50</th>\n",
       "      <td>Scotland net</td>\n",
       "      <td>scotland net</td>\n",
       "    </tr>\n",
       "  </tbody>\n",
       "</table>\n",
       "</div>"
      ],
      "text/plain": [
       "                        label      notation\n",
       "0                    Scotland     S92000003\n",
       "1            Clackmannanshire     S12000005\n",
       "2                Glasgow City     S12000046\n",
       "3       Dumfries and Galloway     S12000006\n",
       "4               East Ayrshire     S12000008\n",
       "5                East Lothian     S12000010\n",
       "6           East Renfrewshire     S12000011\n",
       "7                     Falkirk     S12000014\n",
       "8                        Fife     S12000015\n",
       "9                    Highland     S12000017\n",
       "10                 Inverclyde     S12000018\n",
       "11                 Midlothian     S12000019\n",
       "12                      Moray     S12000020\n",
       "13             North Ayrshire     S12000021\n",
       "14             Orkney Islands     S12000023\n",
       "15          Perth and Kinross     S12000024\n",
       "16           Scottish Borders     S12000026\n",
       "17           Shetland Islands     S12000027\n",
       "18             South Ayrshire     S12000028\n",
       "19          South Lanarkshire     S12000029\n",
       "20                   Stirling     S12000030\n",
       "21              Aberdeen City     S12000033\n",
       "22              Aberdeenshire     S12000034\n",
       "23            Argyll and Bute     S12000035\n",
       "24          City of Edinburgh     S12000036\n",
       "25               Renfrewshire     S12000038\n",
       "26        West Dunbartonshire     S12000039\n",
       "27               West Lothian     S12000040\n",
       "28                      Angus     S12000041\n",
       "29                Dundee City     S12000042\n",
       "30          North Lanarkshire     S12000044\n",
       "31        East Dunbartonshire     S12000045\n",
       "32         Na h-Eileanan Siar     S12000013\n",
       "33         Ayrshire and Arran     S08000015\n",
       "34              Western Isles     S08000028\n",
       "35                    Borders     S08000016\n",
       "36      Dumfries and Galloway     S08000017\n",
       "37                       Fife     S08000018\n",
       "38               Forth Valley     S08000019\n",
       "39                   Grampian     S08000020\n",
       "40  Greater Glasgow and Clyde     S08000021\n",
       "41                   Highland     S08000022\n",
       "42                Lanarkshire     S08000023\n",
       "43                    Lothian     S08000024\n",
       "44                     Orkney     S08000025\n",
       "45                   Shetland     S08000026\n",
       "46                    Tayside     S08000027\n",
       "47              Argyll & Bute     S12000035\n",
       "48             United Kingdom     K02000001\n",
       "49                      World         world\n",
       "50               Scotland net  scotland net"
      ]
     },
     "execution_count": 137,
     "metadata": {},
     "output_type": "execute_result"
    }
   ],
   "source": [
    "c"
   ]
  },
  {
   "cell_type": "code",
   "execution_count": 138,
   "metadata": {},
   "outputs": [],
   "source": [
    "table = pd.merge(next_table, c, how = 'left', left_on = 'Domestic geography1', right_on = 'label')"
   ]
  },
  {
   "cell_type": "code",
   "execution_count": 139,
   "metadata": {},
   "outputs": [],
   "source": [
    "table.columns = ['Domestic geography' if x=='notation' else x for x in table.columns]"
   ]
  },
  {
   "cell_type": "code",
   "execution_count": 140,
   "metadata": {},
   "outputs": [],
   "source": [
    "table['Domestic geography'].fillna('None', inplace = True)"
   ]
  },
  {
   "cell_type": "code",
   "execution_count": 141,
   "metadata": {},
   "outputs": [],
   "source": [
    "def user_perc(x,y):\n",
    "    \n",
    "    if x == 'None' :\n",
    "        return y\n",
    "    else:\n",
    "        return x\n",
    "    \n",
    "table['Domestic geography'] = table.apply(lambda row: user_perc(row['Domestic geography'], row['Domestic geography1']), axis = 1)\n"
   ]
  },
  {
   "cell_type": "code",
   "execution_count": 142,
   "metadata": {},
   "outputs": [],
   "source": [
    "table = table[['Domestic geography','Foreign geography','Mid Year','Sex','Age', 'Flow','Measure Type','Value','Unit']]"
   ]
  },
  {
   "cell_type": "code",
   "execution_count": 143,
   "metadata": {},
   "outputs": [],
   "source": [
    "table['Value'] = table['Value'].astype(int)"
   ]
  },
  {
   "cell_type": "code",
   "execution_count": 144,
   "metadata": {},
   "outputs": [],
   "source": [
    "table = table[table['Mid Year'] != '']"
   ]
  },
  {
   "cell_type": "code",
   "execution_count": 145,
   "metadata": {},
   "outputs": [],
   "source": [
    "table = table[table['Mid Year'] != 'Year']"
   ]
  },
  {
   "cell_type": "code",
   "execution_count": 146,
   "metadata": {},
   "outputs": [],
   "source": [
    "table['Age'] = table['Age'].map(\n",
    "    lambda x: {\n",
    "        'nrs/all' : 'all', \n",
    "        'year/all' : 'all',\n",
    "        }.get(x, x))\n"
   ]
  },
  {
   "cell_type": "code",
   "execution_count": 147,
   "metadata": {},
   "outputs": [],
   "source": [
    "table['Flow'] = table['Flow'].str.lower()"
   ]
  },
  {
   "cell_type": "code",
   "execution_count": 148,
   "metadata": {},
   "outputs": [],
   "source": [
    "table['Flow'] = table['Flow'].map(\n",
    "    lambda x: {\n",
    "        'total' : 'resident'\n",
    "        }.get(x, x))"
   ]
  },
  {
   "cell_type": "code",
   "execution_count": 149,
   "metadata": {},
   "outputs": [],
   "source": [
    "table = table[table['Flow']  != 'resident']"
   ]
  },
  {
   "cell_type": "code",
   "execution_count": 150,
   "metadata": {},
   "outputs": [],
   "source": [
    "from pathlib import Path\n",
    "out = Path('out')\n",
    "out.mkdir(exist_ok=True)\n",
    "table.drop_duplicates().to_csv(out / 'tidy.csv', index = False)"
   ]
  },
  {
   "cell_type": "code",
   "execution_count": 151,
   "metadata": {},
   "outputs": [],
   "source": [
    "from gssutils.metadata import THEME\n",
    "\n",
    "scraper.dataset.family = 'migration'\n",
    "scraper.dataset.theme = THEME['population']\n",
    "scraper.dataset.license = 'http://www.nationalarchives.gov.uk/doc/open-government-licence/version/3/'\n",
    "\n",
    "with open(out / 'dataset.trig', 'wb') as metadata:\n",
    "    metadata.write(scraper.generate_trig())"
   ]
  }
 ],
 "metadata": {
  "kernelspec": {
   "display_name": "Python 3",
   "language": "python",
   "name": "python3"
  },
  "language_info": {
   "codemirror_mode": {
    "name": "ipython",
    "version": 3
   },
   "file_extension": ".py",
   "mimetype": "text/x-python",
   "name": "python",
   "nbconvert_exporter": "python",
   "pygments_lexer": "ipython3",
   "version": "3.7.3"
  }
 },
 "nbformat": 4,
 "nbformat_minor": 4
}
